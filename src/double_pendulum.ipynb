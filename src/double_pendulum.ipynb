{
 "cells": [
  {
   "cell_type": "code",
   "execution_count": 137,
   "metadata": {},
   "outputs": [],
   "source": [
    "import numpy as np\n",
    "import matplotlib.pyplot as plt"
   ]
  },
  {
   "cell_type": "code",
   "execution_count": 154,
   "metadata": {},
   "outputs": [],
   "source": [
    "g = 9.81\n",
    "m1 = 1.0\n",
    "m2 = 1.0\n",
    "l1 = 1.0\n",
    "l2 = 1.0\n",
    "\n",
    "def f_q(q, r, u, v, t):\n",
    "    q_prime = u\n",
    "    return q_prime\n",
    "\n",
    "def f_r(q, r, u, v, t):\n",
    "    r_prime = v\n",
    "    return r_prime\n",
    "\n",
    "def f_u(q, r, u, v, t):\n",
    "    num = \\\n",
    "        2 * g * m1 * np.sin(q) + \\\n",
    "        g * m2 * np.sin(q) + \\\n",
    "        g * m2 * np.sin(q - 2 * r) + \\\n",
    "        l1 * m2 * u ** 2 * np.sin(2 * (q - r)) + \\\n",
    "        2 * l2 * m2 * v ** 2 * np.sin(q - r)\n",
    "\n",
    "    den = -2 * l1 * (m1 - m2 * np.cos(q - r) ** 2 + m2)\n",
    "    u_prime = num / den\n",
    "    return u_prime\n",
    "\n",
    "def f_v(q, r, u, v, t):\n",
    "    num = \\\n",
    "        -(m1 + m2) * (g * np.sin(r) - l1 * u ** 2 * np.sin(q - r)) + \\\n",
    "        (np.cos(q - r)) * \\\n",
    "            (g * m1 * np.sin(q) + \\\n",
    "             g * m2 * np.sin(q) + \\\n",
    "             l2 * m2 * v ** 2 * np.sin(q - r))\n",
    "            \n",
    "    den = l2 * (m1 - m2 * np.cos(q - r) ** 2 + m2)\n",
    "    v_prime = num / den\n",
    "    return v_prime\n",
    "\n",
    "def f_qruv(q, r, u, v, t):\n",
    "    args = (q, r, u, v, t)\n",
    "    qruv_prime = np.array([\n",
    "        f_q(*args),\n",
    "        f_r(*args),\n",
    "        f_u(*args),\n",
    "        f_v(*args),\n",
    "    ])\n",
    "    return qruv_prime\n",
    "\n",
    "def x1(q, r):\n",
    "    val = l1 * np.sin(q)\n",
    "    return val\n",
    "\n",
    "def y1(q, r):\n",
    "    val = -l1 * np.cos(q)\n",
    "    return val\n",
    "\n",
    "def x2(q, r):\n",
    "    val = x1(q, r) + l2 * np.sin(r)\n",
    "    return val\n",
    "\n",
    "def y2(q, r):\n",
    "    val = y1(q, r) - l2 * np.cos(r)\n",
    "    return val"
   ]
  },
  {
   "cell_type": "code",
   "execution_count": 155,
   "metadata": {},
   "outputs": [],
   "source": [
    "q0 = np.deg2rad(175)\n",
    "r0 = np.deg2rad(175)\n",
    "u0 = 0.0\n",
    "v0 = 0.0\n",
    "t0 = 0\n",
    "\n",
    "h = 0.05\n",
    "T = 15\n",
    "t = np.mgrid[t0 : T : h]\n",
    "    \n",
    "qruvti = np.array([q0, r0, u0, v0, t0])\n",
    "history = []\n",
    "\n",
    "for ti in t:\n",
    "    history += [qruvti]\n",
    "    \n",
    "    k1 = h * f_qruv(*qruvti)\n",
    "    \n",
    "    offset = 0.5 * np.array([*k1, h])\n",
    "    k2 = h * f_qruv(*(qruvti + offset))\n",
    "    \n",
    "    offset = 0.5 * np.array([*k2, h])\n",
    "    k3 = h * f_qruv(*(qruvti + offset))\n",
    "    \n",
    "    offset = 1.0 * np.array([*k3, h])\n",
    "    k4 = h * f_qruv(*(qruvti + offset))\n",
    "    \n",
    "    offset = np.concatenate((1 / 6 * (k1 + 2 * k2 + 2 * k3 + k4), (h,)))\n",
    "    qruvti = qruvti + offset\n",
    "    \n",
    "state = []\n",
    "for q, r, u, v, t in history:\n",
    "    state += [[x1(q, r), y1(q, r), x2(q, r), y2(q, r), q, r, t]]\n",
    "state = np.array(state)"
   ]
  },
  {
   "cell_type": "code",
   "execution_count": 156,
   "metadata": {},
   "outputs": [
    {
     "data": {
      "image/png": "[encoded data removed]",
      "text/plain": [
       "<Figure size 432x288 with 1 Axes>"
      ]
     },
     "metadata": {
      "needs_background": "light"
     },
     "output_type": "display_data"
    }
   ],
   "source": [
    "from matplotlib.animation import FuncAnimation\n",
    "\n",
    "def get_savepath(title):\n",
    "    fname = title.lower().replace(' ', '_')\n",
    "    savepath = f'../images/{fname}.gif'\n",
    "    return savepath\n",
    "\n",
    "\n",
    "def get_limits():\n",
    "    min_vals = [-2, -2]\n",
    "    max_vals = [2, 2]\n",
    "    limits = np.vstack((min_vals, max_vals))\n",
    "    return limits.T\n",
    "\n",
    "\n",
    "def configure_axes(ax, title, limits):\n",
    "    ax.set_title(title)\n",
    "    ax.set_xlim(limits[0, :])\n",
    "    ax.set_ylim(limits[1, :])\n",
    "    ax.set_aspect('equal')\n",
    "    ax.set_axis_off()\n",
    "\n",
    "\n",
    "class Plotter:\n",
    "    '''Maintains state for FuncAnimation'''\n",
    "    \n",
    "    def __init__(self, state, title, incr):\n",
    "        self.state = state\n",
    "        self.incr = incr\n",
    "        self.title = title\n",
    "        self.fig, self.ax = plt.subplots()\n",
    "\n",
    "    def init_ani(self):\n",
    "        limits = get_limits()\n",
    "        configure_axes(self.ax, self.title, limits)\n",
    "        self.masses = self.ax.scatter([], [], s=25, c='black')\n",
    "        self.arms, = self.ax.plot([], [], c='grey', linestyle='dotted')\n",
    "        return self.masses, self.arms\n",
    "    \n",
    "    def step(self, frame):\n",
    "        index = self.incr * frame\n",
    "        xy = self.state[index, :4].reshape(2, 2)\n",
    "        xy = np.concatenate((np.zeros((1, 2)), xy), axis=0)\n",
    "        self.masses.set_offsets(xy)\n",
    "        self.arms.set_xdata(xy[:, 0])\n",
    "        self.arms.set_ydata(xy[:, 1])\n",
    "        return self.masses, self.arms\n",
    "    \n",
    "    def animate(self, savepath):\n",
    "        num_points = len(self.state)\n",
    "        frames = num_points // self.incr\n",
    "\n",
    "        kwargs1 = dict(fig=self.fig, func=self.step, init_func=self.init_ani)\n",
    "        kwargs2 = dict(frames=frames, interval=50, repeat=False, blit=True)\n",
    "\n",
    "        ani = FuncAnimation(**kwargs1, **kwargs2)\n",
    "        ani.save(savepath, dpi=80, writer='imagemagick')\n",
    "        \n",
    "def main():\n",
    "    title = 'Pendulum'\n",
    "    plotter = Plotter(state, title, incr=1)\n",
    "    savepath = get_savepath(title)\n",
    "    plotter.animate(savepath)\n",
    "\n",
    "main()"
   ]
  },
  {
   "cell_type": "code",
   "execution_count": 144,
   "metadata": {},
   "outputs": [],
   "source": [
    "from sympy import solve\n",
    "from sympy import cos, sin, symbols\n",
    "\n",
    "m1, m2, l1, l2, g = symbols('m1 m2 l1 l2 g')\n",
    "theta1, theta2 = symbols('theta1 theta2')\n",
    "theta1_p, theta2_p = symbols('theta1_p theta2_p')\n",
    "theta1_pp, theta2_pp = symbols('theta1_pp theta2_pp')\n",
    "\n",
    "x1_pp = -l1 * sin(theta1) * (theta1_p) ** 2 + l1 * cos(theta1) * (theta1_pp)\n",
    "y1_pp = l1 * cos(theta1) * (theta1_p) ** 2 + l1 * sin(theta1) * (theta1_pp)\n",
    "\n",
    "x2_pp = x1_pp - l2 * sin(theta2) * (theta2_p) ** 2 + l2 * cos(theta2) * (theta2_pp)\n",
    "y2_pp = y1_pp + l2 * cos(theta2) * (theta2_p) ** 2 + l2 * sin(theta2) * (theta2_pp)\n",
    "\n",
    "eqn_1 = -cos(theta1) * (m1 * x1_pp + m2 * x2_pp) - sin(theta1) * (m1 * y1_pp + m2 * y2_pp + m2 * g + m1 * g)\n",
    "eqn_2 = cos(theta2) * m2 * x2_pp + sin(theta2) * (m2 * g + m2 * y2_pp)\n",
    "\n",
    "system = [eqn_1, eqn_2]\n",
    "soln = solve(system, theta1_pp, theta2_pp)"
   ]
  },
  {
   "cell_type": "code",
   "execution_count": 85,
   "metadata": {},
   "outputs": [],
   "source": [
    "from sympy import init_printing\n",
    "init_printing()"
   ]
  },
  {
   "cell_type": "code",
   "execution_count": 87,
   "metadata": {},
   "outputs": [
    {
     "data": {
      "image/png": "[encoded data removed]",
      "text/latex": [
       "$$- \\frac{g m_{1} \\sin{\\left (\\theta_{1} \\right )} + \\frac{g m_{2} \\sin{\\left (\\theta_{1} \\right )}}{2} + \\frac{g m_{2} \\sin{\\left (\\theta_{1} - 2 \\theta_{2} \\right )}}{2} + \\frac{l_{1} m_{2} \\theta_{1 p}^{2} \\sin{\\left (2 \\theta_{1} - 2 \\theta_{2} \\right )}}{2} + l_{2} m_{2} \\theta_{2 p}^{2} \\sin{\\left (\\theta_{1} - \\theta_{2} \\right )}}{l_{1} \\left(m_{1} - m_{2} \\cos^{2}{\\left (\\theta_{1} - \\theta_{2} \\right )} + m_{2}\\right)}$$"
      ],
      "text/plain": [
       " ⎛                                                              2             \n",
       " ⎜               g⋅m₂⋅sin(θ₁)   g⋅m₂⋅sin(θ₁ - 2⋅θ₂)   l₁⋅m₂⋅θ₁ ₚ ⋅sin(2⋅θ₁ - 2\n",
       "-⎜g⋅m₁⋅sin(θ₁) + ──────────── + ─────────────────── + ────────────────────────\n",
       " ⎝                    2                  2                         2          \n",
       "──────────────────────────────────────────────────────────────────────────────\n",
       "                                           ⎛           2              ⎞       \n",
       "                                        l₁⋅⎝m₁ - m₂⋅cos (θ₁ - θ₂) + m₂⎠       \n",
       "\n",
       "                               ⎞ \n",
       "⋅θ₂)             2             ⎟ \n",
       "──── + l₂⋅m₂⋅θ₂ ₚ ⋅sin(θ₁ - θ₂)⎟ \n",
       "                               ⎠ \n",
       "─────────────────────────────────\n",
       "                                 \n",
       "                                 "
      ]
     },
     "execution_count": 87,
     "metadata": {},
     "output_type": "execute_result"
    }
   ],
   "source": [
    "soln[theta1_pp]"
   ]
  },
  {
   "cell_type": "code",
   "execution_count": 88,
   "metadata": {},
   "outputs": [
    {
     "data": {
      "image/png": "[encoded data removed]",
      "text/latex": [
       "$$\\frac{- \\left(m_{1} + m_{2}\\right) \\left(g \\sin{\\left (\\theta_{2} \\right )} - l_{1} \\theta_{1 p}^{2} \\sin{\\left (\\theta_{1} - \\theta_{2} \\right )}\\right) + \\left(g m_{1} \\sin{\\left (\\theta_{1} \\right )} + g m_{2} \\sin{\\left (\\theta_{1} \\right )} + l_{2} m_{2} \\theta_{2 p}^{2} \\sin{\\left (\\theta_{1} - \\theta_{2} \\right )}\\right) \\cos{\\left (\\theta_{1} - \\theta_{2} \\right )}}{l_{2} \\left(m_{1} - m_{2} \\cos^{2}{\\left (\\theta_{1} - \\theta_{2} \\right )} + m_{2}\\right)}$$"
      ],
      "text/plain": [
       "            ⎛                   2             ⎞   ⎛                           \n",
       "- (m₁ + m₂)⋅⎝g⋅sin(θ₂) - l₁⋅θ₁ ₚ ⋅sin(θ₁ - θ₂)⎠ + ⎝g⋅m₁⋅sin(θ₁) + g⋅m₂⋅sin(θ₁)\n",
       "──────────────────────────────────────────────────────────────────────────────\n",
       "                                               ⎛           2              ⎞   \n",
       "                                            l₂⋅⎝m₁ - m₂⋅cos (θ₁ - θ₂) + m₂⎠   \n",
       "\n",
       "             2             ⎞             \n",
       " + l₂⋅m₂⋅θ₂ ₚ ⋅sin(θ₁ - θ₂)⎠⋅cos(θ₁ - θ₂)\n",
       "─────────────────────────────────────────\n",
       "                                         \n",
       "                                         "
      ]
     },
     "execution_count": 88,
     "metadata": {},
     "output_type": "execute_result"
    }
   ],
   "source": [
    "soln[theta2_pp]"
   ]
  }
 ],
 "metadata": {
  "kernelspec": {
   "display_name": "Python 3 (rk4)",
   "language": "python",
   "name": "runge_kutta"
  },
  "language_info": {
   "codemirror_mode": {
    "name": "ipython",
    "version": 3
   },
   "file_extension": ".py",
   "mimetype": "text/x-python",
   "name": "python",
   "nbconvert_exporter": "python",
   "pygments_lexer": "ipython3",
   "version": "3.7.2"
  }
 },
 "nbformat": 4,
 "nbformat_minor": 2
}
